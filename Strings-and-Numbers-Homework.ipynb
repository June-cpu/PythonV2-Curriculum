{
 "cells": [
  {
   "cell_type": "markdown",
   "metadata": {},
   "source": [
    "# Combined Homework Assignment: Strings and Numbers in Python\n",
    "\n",
    "This assignment integrates the concepts of string manipulation and numerical operations in Python, offering a comprehensive understanding of these fundamental topics.\n",
    "\n",
    "## Part 1: Strings\n"
   ]
  },
  {
   "cell_type": "markdown",
   "metadata": {},
   "source": [
    "### Task 1.1: Format a Personal Introduction\n",
    "\n",
    "- **Objective:** Create a Python script that uses f-string formatting.\n",
    "- **Requirements:**\n",
    "  - Define two variables: `name` (string) and `age` (integer/float).\n",
    "  - Format and print a message like: `\"My name is [name] and I am [age] years old.\"`\n"
   ]
  },
  {
   "cell_type": "code",
   "execution_count": 1,
   "metadata": {},
   "outputs": [
    {
     "name": "stdout",
     "output_type": "stream",
     "text": [
      "My name is JUNAID and I am 21 years old\n"
     ]
    }
   ],
   "source": [
    "# Task 1.1\n",
    "name = input(\"Name: \")\n",
    "age = input(\"Age: \")\n",
    "\n",
    "print(f\"My name is {name} and I am {age} years old\")"
   ]
  },
  {
   "cell_type": "markdown",
   "metadata": {},
   "source": [
    "### Task 1.2: Build a Simple Text Processor\n",
    "\n",
    "- **Objective:** Develop a program to process text input.\n",
    "- **Requirements:**\n",
    "  - Prompt for a sentence input.\n",
    "  - Count and print the number of words.\n",
    "  - Replace a specified word and print the new sentence.\n"
   ]
  },
  {
   "cell_type": "code",
   "execution_count": 2,
   "metadata": {},
   "outputs": [
    {
     "name": "stdout",
     "output_type": "stream",
     "text": [
      "Hi my name is junaid & I am a cs major\n",
      "11\n"
     ]
    }
   ],
   "source": [
    "# Task 1.2\n",
    "user_str = input(\"write a sentence: \")\n",
    "user_len = len(user_str.split(' '))\n",
    "new_str = user_str.replace('and', '&')\n",
    "print(new_str)\n",
    "print(user_len)"
   ]
  },
  {
   "cell_type": "markdown",
   "metadata": {},
   "source": [
    "### Task 1.3: Explore Escape Characters\n",
    "\n",
    "- **Objective:** Understand the use of escape characters in strings.\n",
    "- **Requirements:**\n",
    "  - Create a string with quotes, a newline, and a tab space.\n",
    "  - Print the string to demonstrate escape characters.\n"
   ]
  },
  {
   "cell_type": "code",
   "execution_count": 4,
   "metadata": {},
   "outputs": [
    {
     "name": "stdout",
     "output_type": "stream",
     "text": [
      "\t 'this is how you put quotes in a string' \n",
      " hello\n"
     ]
    }
   ],
   "source": [
    "# Task 1.3\n",
    "st_r = \"\\t 'this is how you put quotes in a string' \\n hello\"\n",
    "print(st_r)"
   ]
  },
  {
   "cell_type": "markdown",
   "metadata": {},
   "source": [
    "## Part 2: Numbers\n"
   ]
  },
  {
   "cell_type": "markdown",
   "metadata": {},
   "source": [
    "### Task 2.1: Calculator Program\n",
    "\n",
    "- **Objective:** Develop a basic calculator.\n",
    "- **Requirements:**\n",
    "  - Input two numbers from the user.\n",
    "  - Choose an operation (add, subtract, multiply, divide).\n",
    "  - Perform and print the result of the operation.\n"
   ]
  },
  {
   "cell_type": "code",
   "execution_count": 7,
   "metadata": {},
   "outputs": [
    {
     "name": "stdout",
     "output_type": "stream",
     "text": [
      "20\n"
     ]
    }
   ],
   "source": [
    "# Task 2.1\n",
    "num_1, num_2 = int(input('First Number: ')), int(input('Second Number: '))\n",
    "operation = input(['Pick an operator, choose +,-,*,/: '])\n",
    "if(operation == '+'):\n",
    "\tprint(num_1 + num_2)\n",
    "elif(operation == '-'):\n",
    "\tprint(num_1 - num_2)\t\n",
    "elif(operation == '*'):\n",
    "\tprint(num_1 * num_2)\t\n",
    "else:\n",
    "\tprint(num_1 / num_2)\t\n"
   ]
  },
  {
   "cell_type": "markdown",
   "metadata": {},
   "source": [
    "### Task 2.2: Explore the Random Module\n",
    "\n",
    "- **Objective:** Utilize the `random` module.\n",
    "- **Requirements:**\n",
    "  - Generate and print 5 random integers between 1 and 100.\n"
   ]
  },
  {
   "cell_type": "code",
   "execution_count": 20,
   "metadata": {},
   "outputs": [
    {
     "name": "stdout",
     "output_type": "stream",
     "text": [
      "4545454545\n",
      "17\n",
      "43\n",
      "6\n",
      "8\n"
     ]
    }
   ],
   "source": [
    "# Task 2.2\n",
    "import random as rd \n",
    "\n",
    "print(rd.randint(1,100))\n",
    "print(rd.randint(1,100))\n",
    "print(rd.randint(1,100))\n",
    "print(rd.randint(1,100))\n",
    "print(rd.randint(1,100))"
   ]
  },
  {
   "cell_type": "markdown",
   "metadata": {},
   "source": [
    "### Task 2.3: Infinite and NaN (Not a Number) Concepts\n",
    "\n",
    "- **Objective:** Demonstrate the use of infinity and NaN in Python.\n",
    "- **Requirements:**\n",
    "  - Show how to create and use infinite and NaN values.\n",
    "  - Test and identify if a variable contains these values.\n"
   ]
  },
  {
   "cell_type": "code",
   "execution_count": 22,
   "metadata": {},
   "outputs": [
    {
     "name": "stdout",
     "output_type": "stream",
     "text": [
      "True\n",
      "True\n"
     ]
    }
   ],
   "source": [
    "# Task 2.3\n",
    "import math\n",
    "\n",
    "NaN = float('nan')\n",
    "infinity = float('inf')\n",
    "\n",
    "\n",
    "print(math.isnan(NaN))\n",
    "print(math.isinf(infinity))"
   ]
  },
  {
   "cell_type": "markdown",
   "metadata": {},
   "source": [
    "## Additional Challenges\n",
    "\n",
    "For a more comprehensive understanding, try the following:\n"
   ]
  },
  {
   "cell_type": "markdown",
   "metadata": {},
   "source": [
    "- **Challenge 1 (Strings):** Write a program that reverses the user's input sentence and prints it.\n"
   ]
  },
  {
   "cell_type": "code",
   "execution_count": 11,
   "metadata": {},
   "outputs": [
    {
     "name": "stdout",
     "output_type": "stream",
     "text": [
      "\\fibajf si emna ym ih\n"
     ]
    }
   ],
   "source": [
    "# Challenge 1\n",
    "\n",
    "user_str = input(\"Enter a Sentence: \")\n",
    "print(user_str[::-1])\n"
   ]
  },
  {
   "cell_type": "markdown",
   "metadata": {},
   "source": [
    "- **Challenge 2 (Numbers):** Create a script that calculates and prints the factorial of a number provided by the user.\n"
   ]
  },
  {
   "cell_type": "code",
   "execution_count": 14,
   "metadata": {},
   "outputs": [
    {
     "name": "stdout",
     "output_type": "stream",
     "text": [
      "15511210043330985984000000\n"
     ]
    }
   ],
   "source": [
    "# Challenge 2\n",
    "\n",
    "num = int(input('Number: '))\n",
    "result = 1\n",
    "\n",
    "for i in range(2, num + 1):\n",
    "    result *= i\n",
    "\n",
    "print(result)"
   ]
  }
 ],
 "metadata": {
  "kernelspec": {
   "display_name": "Python (myenv)",
   "language": "python",
   "name": "myenv"
  },
  "language_info": {
   "codemirror_mode": {
    "name": "ipython",
    "version": 3
   },
   "file_extension": ".py",
   "mimetype": "text/x-python",
   "name": "python",
   "nbconvert_exporter": "python",
   "pygments_lexer": "ipython3",
   "version": "3.12.6"
  }
 },
 "nbformat": 4,
 "nbformat_minor": 2
}
