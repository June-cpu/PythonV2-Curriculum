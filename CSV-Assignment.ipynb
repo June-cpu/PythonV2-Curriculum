{
 "cells": [
  {
   "cell_type": "markdown",
   "metadata": {},
   "source": [
    "# CSV File Handling Assignment\n",
    "\n",
    "## Exercise 1: Basic CSV File Operations\n",
    "\n",
    "In this exercise, you'll apply basic operations on CSV files using Python's `csv` module.\n",
    "\n",
    "* **Task 1.1:** Write a Python script to create a CSV file named `students.csv` and add the following data to it:\n",
    "    - Headers: `Name`, `Age`, `Major`\n",
    "    - Rows: \n",
    "        - Alice, 24, Computer Science\n",
    "        - Bob, 22, Mathematics\n",
    "        - Charlie, 23, Physics\n",
    "    - Ensure you close the file properly after writing."
   ]
  },
  {
   "cell_type": "code",
   "execution_count": 2,
   "metadata": {},
   "outputs": [
    {
     "name": "stdout",
     "output_type": "stream",
     "text": [
      "Done!\n"
     ]
    }
   ],
   "source": [
    "# Task 1.1\n",
    "\n",
    "import csv\n",
    "\n",
    "# Data to write to the CSV file\n",
    "data = [\n",
    "    ['Name', 'Age', 'Major'],\n",
    "    ['Alice', 24, 'Computer Science'],\n",
    "    ['Bob', 22, 'Mathematics'],\n",
    "    ['Charlie', 23, 'Physics']\n",
    "]\n",
    "with open('students.csv', mode='w', newline='') as file:\n",
    "    writer = csv.writer(file)\n",
    "    writer.writerows(data)\n",
    "\n",
    "print(\"Done!\")"
   ]
  },
  {
   "cell_type": "markdown",
   "metadata": {},
   "source": [
    "* **Task 1.2:** Read the file `students.csv` you just created, print each row to the console."
   ]
  },
  {
   "cell_type": "code",
   "execution_count": 3,
   "metadata": {},
   "outputs": [
    {
     "name": "stdout",
     "output_type": "stream",
     "text": [
      "['Name', 'Age', 'Major']\n",
      "['Alice', '24', 'Computer Science']\n",
      "['Bob', '22', 'Mathematics']\n",
      "['Charlie', '23', 'Physics']\n"
     ]
    }
   ],
   "source": [
    "# Task 1.2\n",
    "with open('students.csv', mode='r') as file:\n",
    "    reader = csv.reader(file)\n",
    "    for row in reader:\n",
    "        print(row)"
   ]
  },
  {
   "cell_type": "markdown",
   "metadata": {},
   "source": [
    "* **Task 1.3:** Append a new row with your own choice of data to `students.csv` and print the entire file content to verify the addition."
   ]
  },
  {
   "cell_type": "code",
   "execution_count": 4,
   "metadata": {},
   "outputs": [
    {
     "name": "stdout",
     "output_type": "stream",
     "text": [
      "['Name', 'Age', 'Major']\n",
      "['Alice', '24', 'Computer Science']\n",
      "['Bob', '22', 'Mathematics']\n",
      "['Charlie', '23', 'Physics']\n",
      "['Junaid', '21', 'Computer Science']\n"
     ]
    }
   ],
   "source": [
    "# Task 1.3\n",
    "new_row = ['Junaid', 21, 'Computer Science']\n",
    "\n",
    "with open('students.csv', mode='a', newline='') as file:  \n",
    "    writer = csv.writer(file)\n",
    "    writer.writerow(new_row)  \n",
    "with open('students.csv', mode='r') as file:\n",
    "    reader = csv.reader(file)\n",
    "    for row in reader:\n",
    "        print(row)"
   ]
  },
  {
   "cell_type": "markdown",
   "metadata": {},
   "source": [
    "## Exercise 2: Advanced CSV Handling\n",
    "\n",
    "Let's explore more sophisticated CSV handling techniques.\n",
    "\n",
    "* **Task 2.1:** Create a CSV file `courses.csv` using a dictionary with fieldnames as `CourseID`, `CourseName`, and `Instructor`. Add at least 3 courses to the CSV and print the content of the file."
   ]
  },
  {
   "cell_type": "code",
   "execution_count": 6,
   "metadata": {},
   "outputs": [
    {
     "name": "stdout",
     "output_type": "stream",
     "text": [
      "['CourseID', 'CourseName', 'Instructor']\n",
      "['CSCI335', 'Data Structures and Algorithms III', 'joerio']\n",
      "['CSCI39548', 'Web Development', 'Almedo']\n",
      "['CSCI265', 'Computer Theory', 'Hager']\n"
     ]
    }
   ],
   "source": [
    "# Task 2.1\n",
    "import csv\n",
    "\n",
    "# Define the courses data\n",
    "courses = [\n",
    "    {'CourseID': 'CSCI335', 'CourseName': 'Data Structures and Algorithms III', 'Instructor': 'joerio'},\n",
    "    {'CourseID': 'CSCI39548', 'CourseName': 'Web Development', 'Instructor': 'Almedo'},\n",
    "    {'CourseID': 'CSCI265', 'CourseName': 'Computer Theory', 'Instructor': 'Hager'}\n",
    "]\n",
    "\n",
    "fieldnames = ['CourseID', 'CourseName', 'Instructor']\n",
    "with open('courses.csv', mode='w', newline='') as file:\n",
    "    writer = csv.DictWriter(file, fieldnames=fieldnames)\n",
    "    writer.writeheader()\n",
    "    writer.writerows(courses)\n",
    "\n",
    "with open('courses.csv', mode='r') as file:\n",
    "    reader = csv.reader(file)\n",
    "    for row in reader:\n",
    "        print(row)\n",
    "\n"
   ]
  },
  {
   "cell_type": "markdown",
   "metadata": {},
   "source": [
    "* **Task 2.2:** Read the `courses.csv` file using `DictReader` and print each row as a dictionary."
   ]
  },
  {
   "cell_type": "code",
   "execution_count": 7,
   "metadata": {},
   "outputs": [
    {
     "name": "stdout",
     "output_type": "stream",
     "text": [
      "{'CourseID': 'CSCI335', 'CourseName': 'Data Structures and Algorithms III', 'Instructor': 'joerio'}\n",
      "{'CourseID': 'CSCI39548', 'CourseName': 'Web Development', 'Instructor': 'Almedo'}\n",
      "{'CourseID': 'CSCI265', 'CourseName': 'Computer Theory', 'Instructor': 'Hager'}\n"
     ]
    }
   ],
   "source": [
    "# Task 2.2\n",
    "with open('courses.csv', mode='r') as file:\n",
    "    reader = csv.DictReader(file)\n",
    "    for row in reader:\n",
    "        print(dict(row))  "
   ]
  },
  {
   "cell_type": "markdown",
   "metadata": {},
   "source": [
    "* **Task 2.3:** Modify the delimiter of your CSV writer and reader to use a semicolon (`;`) instead of a comma, create a new file `courses_semicolon.csv` and perform read/write operations. Verify by printing the content.\n"
   ]
  },
  {
   "cell_type": "code",
   "execution_count": 8,
   "metadata": {},
   "outputs": [
    {
     "name": "stdout",
     "output_type": "stream",
     "text": [
      "['CourseID', 'CourseName', 'Instructor']\n",
      "['CSCI335', 'Data Structures and Algorithms III', 'joerio']\n",
      "['CSCI39548', 'Web Development', 'Almedo']\n",
      "['CSCI265', 'Computer Theory', 'Hager']\n"
     ]
    }
   ],
   "source": [
    "# Task 2.3\n",
    "\n",
    "with open('courses_semicolon.csv', mode='w', newline='') as file:\n",
    "    writer = csv.DictWriter(file, fieldnames=fieldnames, delimiter=';') \n",
    "    writer.writeheader()\n",
    "    writer.writerows(courses)\n",
    "    \n",
    "with open('courses_semicolon.csv', mode='r') as file:\n",
    "    reader = csv.reader(file, delimiter=';')  \n",
    "    for row in reader:\n",
    "        print(row)\n"
   ]
  },
  {
   "cell_type": "markdown",
   "metadata": {},
   "source": [
    "## Exercise 3: Error Handling\n",
    "\n",
    "Implement error handling in file operations to manage unexpected situations.\n",
    "\n",
    "* **Task 3.1:** Attempt to read a file `nonexistent.csv` that does not exist, handle the `FileNotFoundError` to print a custom error message instead of the default traceback.\n"
   ]
  },
  {
   "cell_type": "code",
   "execution_count": 9,
   "metadata": {},
   "outputs": [
    {
     "name": "stdout",
     "output_type": "stream",
     "text": [
      "Error: The file 'nonexistent.csv' was not found.\n"
     ]
    }
   ],
   "source": [
    "# Task 3.1\n",
    "try:\n",
    "    with open('nonexistent.csv', mode='r') as file:\n",
    "        reader = csv.reader(file)\n",
    "        for row in reader:\n",
    "            print(row)\n",
    "except FileNotFoundError:\n",
    "    print(\"Error: The file 'nonexistent.csv' was not found.\")\n"
   ]
  },
  {
   "cell_type": "markdown",
   "metadata": {},
   "source": [
    "## Reflection\n",
    "\n",
    "Upon completion of these exercises, reflect on the following points and write a short paragraph:\n",
    "\n",
    "- Discuss the importance of using the `csv` module for handling CSV files in Python projects.\n",
    "- How does handling errors and using custom delimiters enhance the robustness and flexibility of file operations?\n",
    "- Reflect on how the assignment helped you understand the practical application of CSV file operations in real-world projects."
   ]
  }
 ],
 "metadata": {
  "kernelspec": {
   "display_name": "Python (myenv)",
   "language": "python",
   "name": "myenv"
  },
  "language_info": {
   "codemirror_mode": {
    "name": "ipython",
    "version": 3
   },
   "file_extension": ".py",
   "mimetype": "text/x-python",
   "name": "python",
   "nbconvert_exporter": "python",
   "pygments_lexer": "ipython3",
   "version": "3.12.6"
  }
 },
 "nbformat": 4,
 "nbformat_minor": 2
}
