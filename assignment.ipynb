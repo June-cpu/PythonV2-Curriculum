{
 "cells": [
  {
   "cell_type": "markdown",
   "metadata": {},
   "source": [
    "**Practice:**\n",
    "1. **Basic Decision Making:**   - Write a program to check if a number is positive, negative, or zero.   - Input: Any integer.   - Output: A string stating the type of number.\n",
    "2. **Logical Operators:**   - Create a program that determines if a year is a leap year. Use logical operators.   - Input: A year.   - Output: True if a leap year, False otherwise.\n",
    "3. **Nested Conditional Statements:**   \n",
    " Develop a program that categorizes a person's life stage: child (< 18), adult (18-64), senior (> 64).   - Input: Age as an integer.   - Output: The life stage. "
   ]
  },
  {
   "cell_type": "code",
   "execution_count": 1,
   "metadata": {},
   "outputs": [
    {
     "name": "stdout",
     "output_type": "stream",
     "text": [
      "Negative\n",
      "True\n",
      "Adult\n"
     ]
    }
   ],
   "source": [
    "# answers\n",
    "user_num = int(input(\"Enter a Number: \"))\n",
    "if(user_num > 0):\n",
    "\tprint(\"Positive\")\n",
    "elif(user_num < 0):\n",
    "\tprint(\"Negative\")\n",
    "else:\n",
    "\tprint(\"Zero\")\n",
    "\n",
    "year = int(input(\"Enter a Year: \"))\n",
    "\n",
    "if(year % 4 == 0 and year % 100 !=0):\n",
    "\tprint(\"True\")\n",
    "elif(year % 100 == 0 and year % 400 == 0):\n",
    "\tprint(\"True\")\n",
    "else:\n",
    "\tprint(\"False\")\n",
    "\n",
    "age = int(input(\"Age: \"))\n",
    "\n",
    "if(age < 18):\n",
    "\tprint(\"child\")\n",
    "elif(age >= 18 and age <= 64):\n",
    "\tprint(\"Adult\")\n",
    "else:\n",
    "\tprint(\"Senior\")\n",
    "\n"
   ]
  }
 ],
 "metadata": {
  "kernelspec": {
   "display_name": "Python (myenv)",
   "language": "python",
   "name": "myenv"
  },
  "language_info": {
   "codemirror_mode": {
    "name": "ipython",
    "version": 3
   },
   "file_extension": ".py",
   "mimetype": "text/x-python",
   "name": "python",
   "nbconvert_exporter": "python",
   "pygments_lexer": "ipython3",
   "version": "3.12.6"
  }
 },
 "nbformat": 4,
 "nbformat_minor": 2
}
