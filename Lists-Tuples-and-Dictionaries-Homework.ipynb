{
 "cells": [
  {
   "cell_type": "markdown",
   "metadata": {},
   "source": [
    "# List, Tuples, and Dictionaries Homework\n"
   ]
  },
  {
   "cell_type": "markdown",
   "metadata": {},
   "source": [
    "### Part 1: Lists\n",
    "\n",
    "#### Task 1.1: List Creation and Expansion\n",
    "* Create a list named `my_list` with `1`,  `\"hello\"`, and `3.14`. Print it.\n",
    "* Append `4` and `\"world\"` to `my_list`, then print the updated list.\n",
    "* Extend `my_list` with another list `[\"apple\", \"banana\", \"cherry\"]` and print the result.\n"
   ]
  },
  {
   "cell_type": "code",
   "execution_count": 1,
   "metadata": {},
   "outputs": [
    {
     "name": "stdout",
     "output_type": "stream",
     "text": [
      "[1, 'hello', 3.14]\n",
      "[1, 'hello', 3.14, 'apple', 'banana', 'cherry']\n"
     ]
    }
   ],
   "source": [
    "# Task 1.1\n",
    "my_list = [1, 'hello', 3.14]\n",
    "print(my_list)\n",
    "my_list += ['apple', 'banana', 'cherry']\n",
    "print(my_list)"
   ]
  },
  {
   "cell_type": "markdown",
   "metadata": {},
   "source": [
    "#### Task 1.2: List Manipulation and Inquiry\n",
    "\n",
    "* Insert `\"Python\"` at the second position in `my_list` and print the list.\n",
    "* Remove `\"hello\"` from `my_list` and print the updated list.\n",
    "* Print the length, minimum, and maximum values of `my_list` (convert elements to a common type if necessary).\n"
   ]
  },
  {
   "cell_type": "code",
   "execution_count": 6,
   "metadata": {},
   "outputs": [
    {
     "name": "stdout",
     "output_type": "stream",
     "text": [
      "[1, 'python', 3.14, 'apple', 'banana', 'cherry']\n",
      "python 1\n"
     ]
    }
   ],
   "source": [
    "# Task 1.2\n",
    "# my_list.insert(1, 'python')\n",
    "print(my_list)\n",
    "# my_list.remove('hello')\n",
    "my_list[0] = '1'\n",
    "my_list[2] = '3.14'\n",
    "print(max(my_list), min(my_list))"
   ]
  },
  {
   "cell_type": "markdown",
   "metadata": {},
   "source": [
    "#### Task 1.3: Advanced List Techniques\n",
    "\n",
    "* Create a nested list `nested_list` with `[1, 2, 3]`,  `[\"a\", \"b\", \"c\"]`, and `[4.5, 5.6, 7.8]`.\n",
    "* Access and print the last element of the last nested list in `nested_list`.\n",
    "* Sort `my_list` in reverse order and print it.\n"
   ]
  },
  {
   "cell_type": "code",
   "execution_count": 16,
   "metadata": {},
   "outputs": [
    {
     "name": "stdout",
     "output_type": "stream",
     "text": [
      "7.8\n",
      "['python', 'cherry', 'banana', 'apple', '3.14', '1']\n"
     ]
    }
   ],
   "source": [
    "# Task 1.3\n",
    "nested_list = [[1,2,3], [\"a\", \"b\", \"c\"], [4.5, 5.6, 7.8]]\n",
    "print(nested_list[-1][-1])\n",
    "\n",
    "my_list.sort(reverse= True)\n",
    "print(my_list)"
   ]
  },
  {
   "cell_type": "markdown",
   "metadata": {},
   "source": [
    "### Part 2: Tuples\n",
    "\n",
    "#### Task 2.1: Tuple Creation and Exploration\n",
    "* Create a tuple `my_tuple` with `(\"Python\", 3.8, \"Programming\", 3.8)`.\n",
    "* Print the first and last elements of `my_tuple`.\n",
    "* Determine and print the index of `\"Programming\"` in `my_tuple`.\n"
   ]
  },
  {
   "cell_type": "code",
   "execution_count": 17,
   "metadata": {},
   "outputs": [
    {
     "name": "stdout",
     "output_type": "stream",
     "text": [
      "Python 3.8\n",
      "2\n"
     ]
    }
   ],
   "source": [
    "# Task 2.1\n",
    "my_tuple = (\"Python\", 3.8, \"Programming\", 3.8)\n",
    "print(my_tuple[0], my_tuple[-1])\n",
    "print(my_tuple.index(\"Programming\"))"
   ]
  },
  {
   "cell_type": "markdown",
   "metadata": {},
   "source": [
    "#### Task 2.2: Advanced Tuple Operations\n",
    "\n",
    "* Count and print how often `3.8` appears in `my_tuple`.\n",
    "* Unpack `my_tuple` into four variables (add an extra element to `my_tuple` if needed) and print them.\n",
    "* Attempt to modify the second element of `my_tuple` and capture the error message.\n"
   ]
  },
  {
   "cell_type": "code",
   "execution_count": 18,
   "metadata": {},
   "outputs": [
    {
     "name": "stdout",
     "output_type": "stream",
     "text": [
      "2\n",
      "Python 3.8 Programming 3.8\n"
     ]
    }
   ],
   "source": [
    "# Task 2.2\n",
    "print(my_tuple.count(3.8))\n",
    "\n",
    "(a, b, c, d) = my_tuple\n",
    "print(a, b, c, d)"
   ]
  },
  {
   "cell_type": "markdown",
   "metadata": {},
   "source": [
    "### Part 3: Dictionaries\n",
    "\n",
    "#### Task 3.1: Dictionary Basics and Modification\n",
    "* Create a dictionary `my_dict` with `\"name\"`,  `\"age\"`,  `\"language\"` keys and corresponding values.\n",
    "* Use `get` to print the value of `\"age\"`, providing a default value if the key is not found.\n",
    "* Update `my_dict` with `\"email\": \"john@example.com\"` and `\"age\": 31`, then print the updated dictionary.\n"
   ]
  },
  {
   "cell_type": "code",
   "execution_count": 20,
   "metadata": {},
   "outputs": [
    {
     "name": "stdout",
     "output_type": "stream",
     "text": [
      "21\n",
      "{'name': 'June', 'age': 21, 'language': 'Arabic', 'email': 'john@example.com'}\n"
     ]
    }
   ],
   "source": [
    "# Task 3.1\n",
    "my_dict = {'name' : \"June\", 'age' : 21, 'language' : 'Arabic'}\n",
    "print(my_dict.get('age', 'Not Found'))\n",
    "my_dict.update({'email' : 'john@example.com'})\n",
    "print(my_dict)"
   ]
  },
  {
   "cell_type": "markdown",
   "metadata": {},
   "source": [
    "#### Task 3.2: Dictionary Methods and Nested Structures\n",
    "\n",
    "* Use appropriate methods to print all keys and values in `my_dict` separately.\n",
    "* Create a nested dictionary `nested_dict` with keys `\"personal\"` and `\"professional\"`, each holding another dictionary.\n",
    "* Access and print a value from each nested dictionary in `nested_dict`.\n"
   ]
  },
  {
   "cell_type": "code",
   "execution_count": 23,
   "metadata": {},
   "outputs": [
    {
     "name": "stdout",
     "output_type": "stream",
     "text": [
      "name\n",
      "age\n",
      "language\n",
      "email\n",
      "sports\n",
      "countries\n",
      "hunter\n",
      "tutor\n"
     ]
    }
   ],
   "source": [
    "# Task 3.2\n",
    "for key in my_dict.keys():\n",
    "\tprint(key)\n",
    "personal_dict = {'hobby' : 'sports', 'travel' : 'countries'}\n",
    "professional_dict = {'school' : 'hunter', 'work' : 'tutor'} \n",
    "\n",
    "nested_dict = {'personal' : personal_dict, 'professional' : professional_dict}\n",
    "\n",
    "for value in nested_dict.values():\n",
    "\tfor val in value.values():\n",
    "\t\tprint(val)\n",
    "\n"
   ]
  },
  {
   "cell_type": "markdown",
   "metadata": {},
   "source": [
    "#### Task 3.3: Dictionary Comprehensions and Removals\n",
    "\n",
    "* Write a dictionary comprehension to swap keys and values in `my_dict` and print it.\n",
    "* Remove the key `\"language\"` from `my_dict` using `pop()` and print the popped value and the updated dictionary.\n",
    "* Use `items()` to print each key-value pair in `my_dict`.\n"
   ]
  },
  {
   "cell_type": "code",
   "execution_count": 25,
   "metadata": {},
   "outputs": [
    {
     "name": "stdout",
     "output_type": "stream",
     "text": [
      "{'June': 'name', 21: 'age', 'Arabic': 'language', 'john@example.com': 'email'}\n"
     ]
    }
   ],
   "source": [
    "# Task 3.3\n",
    "new_dict = {}\n",
    "for i, j in my_dict.items():\n",
    "    new_dict[j] = i\n",
    "print(new_dict)"
   ]
  }
 ],
 "metadata": {
  "kernelspec": {
   "display_name": "Python (myenv)",
   "language": "python",
   "name": "myenv"
  },
  "language_info": {
   "codemirror_mode": {
    "name": "ipython",
    "version": 3
   },
   "file_extension": ".py",
   "mimetype": "text/x-python",
   "name": "python",
   "nbconvert_exporter": "python",
   "pygments_lexer": "ipython3",
   "version": "3.12.6"
  }
 },
 "nbformat": 4,
 "nbformat_minor": 2
}
