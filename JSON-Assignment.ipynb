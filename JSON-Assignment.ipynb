{
 "cells": [
  {
   "cell_type": "markdown",
   "metadata": {},
   "source": [
    "# JSON Handling in Python Assignment\n",
    "\n",
    "## Exercise 1: Parsing JSON Strings\n",
    "\n",
    "Understanding how to convert JSON strings into Python data structures is a fundamental skill for working with JSON in Python.\n",
    "\n",
    "* **Task 1.1:** Given the JSON string `{\"name\": \"Alice\", \"age\": 30, \"city\": \"New York\"}`, parse it into a Python dictionary and print the dictionary."
   ]
  },
  {
   "cell_type": "code",
   "execution_count": 1,
   "metadata": {},
   "outputs": [
    {
     "name": "stdout",
     "output_type": "stream",
     "text": [
      "{'name': 'Alice', 'age': 30, 'city': 'New York'}\n"
     ]
    }
   ],
   "source": [
    "# Task 1.1\n",
    "import json\n",
    "\n",
    "json_string = '{\"name\" : \"Alice\", \"age\" : 30, \"city\": \"New York\"}'\n",
    "\n",
    "j_dict = json.loads(json_string)\n",
    "\n",
    "print(j_dict)"
   ]
  },
  {
   "cell_type": "markdown",
   "metadata": {},
   "source": [
    "* **Task 1.2:** Access the value of the `name` key from the dictionary created in Task 1.1 and print it.\n"
   ]
  },
  {
   "cell_type": "code",
   "execution_count": 2,
   "metadata": {},
   "outputs": [
    {
     "name": "stdout",
     "output_type": "stream",
     "text": [
      "Alice\n"
     ]
    }
   ],
   "source": [
    "# Task 1.2\n",
    "print(j_dict['name'])"
   ]
  },
  {
   "cell_type": "markdown",
   "metadata": {},
   "source": [
    "* **Task 1.3:** Modify the `age` value to `31` in the dictionary from Task 1.1 and print the updated dictionary.\n"
   ]
  },
  {
   "cell_type": "code",
   "execution_count": 3,
   "metadata": {},
   "outputs": [
    {
     "name": "stdout",
     "output_type": "stream",
     "text": [
      "{'name': 'Alice', 'age': 31, 'city': 'New York'}\n"
     ]
    }
   ],
   "source": [
    "# Task 1.3\n",
    "\n",
    "j_dict['age'] = 31\n",
    "print(j_dict)"
   ]
  },
  {
   "cell_type": "markdown",
   "metadata": {},
   "source": [
    "## Exercise 2: Generating JSON Strings\n",
    "\n",
    "Converting Python data structures to JSON strings is crucial for data storage and communication.\n",
    "\n",
    "* **Task 2.1:** Create a Python list named `colors` with the elements `\"red\"`, `\"green\"`, and `\"blue\"`. Convert this list to a JSON string and print the string."
   ]
  },
  {
   "cell_type": "code",
   "execution_count": 4,
   "metadata": {},
   "outputs": [
    {
     "name": "stdout",
     "output_type": "stream",
     "text": [
      "[\"red\", \"green\", \"blue\"]\n"
     ]
    }
   ],
   "source": [
    "# Task 2.1\n",
    "colors = [\"red\", \"green\", \"blue\"]\n",
    "j_string = json.dumps(colors)\n",
    "print(j_string)"
   ]
  },
  {
   "cell_type": "markdown",
   "metadata": {},
   "source": [
    "* **Task 2.2:** Create a Python dictionary representing a person with keys `name`, `age`, and `skills`, where `skills` is a list of skills. Convert this dictionary to a JSON string with an indentation of 4 spaces and print it."
   ]
  },
  {
   "cell_type": "code",
   "execution_count": 5,
   "metadata": {},
   "outputs": [
    {
     "name": "stdout",
     "output_type": "stream",
     "text": [
      "{\n",
      "    \"name\": \"Alice\",\n",
      "    \"age\": 30,\n",
      "    \"skills\": [\n",
      "        \"Python\",\n",
      "        \"C++\",\n",
      "        \"JavaScript\"\n",
      "    ]\n",
      "}\n"
     ]
    }
   ],
   "source": [
    "# Task 2.2\n",
    "\n",
    "person = {\n",
    "    \"name\": \"Alice\",\n",
    "    \"age\": 30,\n",
    "    \"skills\": [\"Python\", \"C++\", \"JavaScript\"]\n",
    "}\n",
    "\n",
    "json_string = json.dumps(person, indent = 4)\n",
    "print(json_string)"
   ]
  },
  {
   "cell_type": "markdown",
   "metadata": {},
   "source": [
    "* **Task 3.1:** Given the nested JSON string `{\"employee\": {\"name\": \"John Doe\", \"roles\": [\"Admin\", \"User\"], \"email\": \"johndoe@example.com\"}}`, parse it into a Python object and print the roles of the employee.\n"
   ]
  },
  {
   "cell_type": "code",
   "execution_count": 6,
   "metadata": {},
   "outputs": [
    {
     "name": "stdout",
     "output_type": "stream",
     "text": [
      "['Admin', 'User']\n"
     ]
    }
   ],
   "source": [
    "# Task 3.1\n",
    "json_string = '{\"employee\": {\"name\": \"John Doe\", \"roles\": [\"Admin\", \"User\"], \"email\": \"johndoe@example.com\"}}'\n",
    "\n",
    "python_dict = json.loads(json_string)\n",
    "\n",
    "employee_roles = python_dict[\"employee\"][\"roles\"]\n",
    "print(employee_roles)\n",
    "\n"
   ]
  },
  {
   "cell_type": "markdown",
   "metadata": {},
   "source": [
    "* **Task 3.2:** Add a new role `\"Manager\"` to the employee roles in the Python object from Task 3.1, then convert the entire object back to a JSON string and print it.\n"
   ]
  },
  {
   "cell_type": "code",
   "execution_count": 7,
   "metadata": {},
   "outputs": [
    {
     "name": "stdout",
     "output_type": "stream",
     "text": [
      "{'employee': {'name': 'John Doe', 'roles': ['Admin', 'User', 'Manager'], 'email': 'johndoe@example.com'}}\n"
     ]
    }
   ],
   "source": [
    "# Task 3.2\n",
    "python_dict[\"employee\"][\"roles\"].append(\"Manager\")\n",
    "\n",
    "print(python_dict)"
   ]
  },
  {
   "cell_type": "markdown",
   "metadata": {},
   "source": [
    "## Exercise 4: JSON and Files\n",
    "\n",
    "Working with JSON files is a common task for configuration files, data storage, and more.\n",
    "\n",
    "* **Task 4.1:** Write a Python script to load a JSON file named `data.json` containing an array of objects. Print the loaded data."
   ]
  },
  {
   "cell_type": "code",
   "execution_count": 8,
   "metadata": {},
   "outputs": [
    {
     "ename": "FileNotFoundError",
     "evalue": "[Errno 2] No such file or directory: 'data.json'",
     "output_type": "error",
     "traceback": [
      "\u001b[0;31m---------------------------------------------------------------------------\u001b[0m",
      "\u001b[0;31mFileNotFoundError\u001b[0m                         Traceback (most recent call last)",
      "\u001b[1;32m/Users/junaidtafader/Documents/v2/JSON-Assignment.ipynb Cell 16\u001b[0m line \u001b[0;36m2\n\u001b[1;32m      <a href='vscode-notebook-cell:/Users/junaidtafader/Documents/v2/JSON-Assignment.ipynb#X21sZmlsZQ%3D%3D?line=0'>1</a>\u001b[0m \u001b[39m# Task 4.1\u001b[39;00m\n\u001b[0;32m----> <a href='vscode-notebook-cell:/Users/junaidtafader/Documents/v2/JSON-Assignment.ipynb#X21sZmlsZQ%3D%3D?line=1'>2</a>\u001b[0m \u001b[39mwith\u001b[39;00m \u001b[39mopen\u001b[39;49m(\u001b[39m'\u001b[39;49m\u001b[39mdata.json\u001b[39;49m\u001b[39m'\u001b[39;49m, \u001b[39m'\u001b[39;49m\u001b[39mr\u001b[39;49m\u001b[39m'\u001b[39;49m) \u001b[39mas\u001b[39;00m file:\n\u001b[1;32m      <a href='vscode-notebook-cell:/Users/junaidtafader/Documents/v2/JSON-Assignment.ipynb#X21sZmlsZQ%3D%3D?line=2'>3</a>\u001b[0m     data \u001b[39m=\u001b[39m json\u001b[39m.\u001b[39mload(file)\n\u001b[1;32m      <a href='vscode-notebook-cell:/Users/junaidtafader/Documents/v2/JSON-Assignment.ipynb#X21sZmlsZQ%3D%3D?line=4'>5</a>\u001b[0m \u001b[39mprint\u001b[39m(data)\n",
      "File \u001b[0;32m~/.myenv/lib/python3.12/site-packages/IPython/core/interactiveshell.py:324\u001b[0m, in \u001b[0;36m_modified_open\u001b[0;34m(file, *args, **kwargs)\u001b[0m\n\u001b[1;32m    317\u001b[0m \u001b[39mif\u001b[39;00m file \u001b[39min\u001b[39;00m {\u001b[39m0\u001b[39m, \u001b[39m1\u001b[39m, \u001b[39m2\u001b[39m}:\n\u001b[1;32m    318\u001b[0m     \u001b[39mraise\u001b[39;00m \u001b[39mValueError\u001b[39;00m(\n\u001b[1;32m    319\u001b[0m         \u001b[39mf\u001b[39m\u001b[39m\"\u001b[39m\u001b[39mIPython won\u001b[39m\u001b[39m'\u001b[39m\u001b[39mt let you open fd=\u001b[39m\u001b[39m{\u001b[39;00mfile\u001b[39m}\u001b[39;00m\u001b[39m by default \u001b[39m\u001b[39m\"\u001b[39m\n\u001b[1;32m    320\u001b[0m         \u001b[39m\"\u001b[39m\u001b[39mas it is likely to crash IPython. If you know what you are doing, \u001b[39m\u001b[39m\"\u001b[39m\n\u001b[1;32m    321\u001b[0m         \u001b[39m\"\u001b[39m\u001b[39myou can use builtins\u001b[39m\u001b[39m'\u001b[39m\u001b[39m open.\u001b[39m\u001b[39m\"\u001b[39m\n\u001b[1;32m    322\u001b[0m     )\n\u001b[0;32m--> 324\u001b[0m \u001b[39mreturn\u001b[39;00m io_open(file, \u001b[39m*\u001b[39;49margs, \u001b[39m*\u001b[39;49m\u001b[39m*\u001b[39;49mkwargs)\n",
      "\u001b[0;31mFileNotFoundError\u001b[0m: [Errno 2] No such file or directory: 'data.json'"
     ]
    }
   ],
   "source": [
    "# Task 4.1\n",
    "with open('data.json', 'r') as file:\n",
    "    data = json.load(file)\n",
    "\n",
    "print(data)"
   ]
  },
  {
   "cell_type": "markdown",
   "metadata": {},
   "source": [
    "* **Task 4.2:** Modify the data loaded in Task 4.1 by adding a new object to the array. Save the updated array back to `data.json`."
   ]
  },
  {
   "cell_type": "code",
   "execution_count": null,
   "metadata": {},
   "outputs": [],
   "source": [
    "# Task 4.2\n"
   ]
  },
  {
   "cell_type": "markdown",
   "metadata": {},
   "source": [
    "## Reflection\n",
    "\n",
    "After completing these exercises, reflect on the following questions and write a short paragraph:\n",
    "\n",
    "* What are the advantages of using JSON for data storage and exchange in Python applications?\n",
    "* How does handling complex JSON structures prepare you for working with real-world data?\n",
    "* Reflect on the process of converting between Python objects and JSON strings. How does this impact the way you think about data structures in Python?"
   ]
  }
 ],
 "metadata": {
  "kernelspec": {
   "display_name": "Python (myenv)",
   "language": "python",
   "name": "myenv"
  },
  "language_info": {
   "codemirror_mode": {
    "name": "ipython",
    "version": 3
   },
   "file_extension": ".py",
   "mimetype": "text/x-python",
   "name": "python",
   "nbconvert_exporter": "python",
   "pygments_lexer": "ipython3",
   "version": "3.12.6"
  }
 },
 "nbformat": 4,
 "nbformat_minor": 2
}
