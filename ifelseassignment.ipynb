{
 "cells": [
  {
   "cell_type": "markdown",
   "metadata": {},
   "source": [
    "Here’s a new assignment on **Conditional Statements**, based on the provided lecture:\n",
    "\n",
    "---\n",
    "\n",
    "# Mastering Python Conditional Statements Assignment\n",
    "\n",
    "## Exercise 1: Basic Decision Making\n",
    "\n",
    "Understanding the core of conditional statements is crucial for decision-making in Python.\n",
    "\n",
    "- **Task 1.1:** Write a program to check if a number is positive, negative, or zero.\n",
    "  - **Input:** Any integer.\n",
    "  - **Output:** A string stating whether the number is \"positive\", \"negative\", or \"zero\".\n",
    "  \n",
    "```python\n",
    "# Task 1.1\n",
    "\n",
    "```\n",
    "\n",
    "## Exercise 2: Logical Operators\n",
    "\n",
    "Logical operators like `and`, `or`, and `not` help in combining conditions for complex decision-making.\n",
    "\n",
    "- **Task 2.1:** Create a program that determines if a year is a leap year using logical operators.\n",
    "  - **Input:** A year.\n",
    "  - **Output:** `True` if the year is a leap year, `False` otherwise.\n",
    "  \n",
    "```python\n",
    "# Task 2.1\n",
    "\n",
    "```\n",
    "\n",
    "## Exercise 3: Nested Conditional Statements\n",
    "\n",
    "Nesting allows deeper decision-making processes by layering conditions within conditions.\n",
    "\n",
    "- **Task 3.1:** Write a program that categorizes a person’s life stage as follows: \n",
    "  - **Child** (under 18)\n",
    "  - **Adult** (18-64)\n",
    "  - **Senior** (65 and older).\n",
    "  - **Input:** Age as an integer.\n",
    "  - **Output:** A string representing the life stage.\n",
    "  \n",
    "```python\n",
    "# Task 3.1\n",
    "\n",
    "```\n",
    "\n",
    "## Exercise 4: Complex Decision Making\n",
    "\n",
    "Use conditional statements to create more complex decision-making systems.\n",
    "\n",
    "- **Task 4.1:** Write a program that asks for the temperature in Fahrenheit and Celsius, and the unit to which you want to convert. It should then convert the temperature.\n",
    "  - **Input:** Temperature and the target unit (`\"Celsius\"` or `\"Fahrenheit\"`).\n",
    "  - **Output:** The converted temperature.\n",
    "  \n",
    "```python\n",
    "# Task 4.1\n",
    "\n",
    "```\n",
    "\n",
    "## Exercise 5: Grading System\n",
    "\n",
    "Implement a decision-making structure for a grading system.\n",
    "\n",
    "- **Task 5.1:** Write a program to convert a percentage score to a letter grade.\n",
    "  - **A:** 90–100\n",
    "  - **B:** 80–89\n",
    "  - **C:** 70–79\n",
    "  - **D:** 60–69\n",
    "  - **F:** Below 60\n",
    "  - **Input:** Score as a percentage.\n",
    "  - **Output:** The corresponding grade.\n",
    "  \n",
    "```python\n",
    "# Task 5.1\n",
    "\n",
    "```\n"
   ]
  },
  {
   "cell_type": "code",
   "execution_count": 1,
   "metadata": {},
   "outputs": [
    {
     "name": "stdout",
     "output_type": "stream",
     "text": [
      "203.0\n"
     ]
    }
   ],
   "source": [
    "tempConvert = input(\"Enter the temp and what to convert to with space in between: \")\n",
    "\n",
    "tempConvert = tempConvert.split()\n",
    "\n",
    "temp = int(tempConvert[0])\n",
    "change = tempConvert[1]\n",
    "\n",
    "if(tempConvert == \"Celsius\"):\n",
    "\tprint((temp - 32) * 5/9)\n",
    "else:\n",
    "\tprint((temp * 9/5) + 32)"
   ]
  },
  {
   "cell_type": "code",
   "execution_count": 11,
   "metadata": {},
   "outputs": [
    {
     "name": "stdout",
     "output_type": "stream",
     "text": [
      "A\n"
     ]
    }
   ],
   "source": [
    "\n",
    "grade = input(\"Enter percentage grade: \")\n",
    "\n",
    "if(grade.isdigit() == False):\n",
    "\tgrade = int(grade[:-1])\n",
    "else:\n",
    "\tgrade = int(grade)\n",
    "\n",
    "if(grade < 60):\n",
    "\tprint(\"F\")\n",
    "elif(grade < 70):\n",
    "\tprint(\"D\")\n",
    "elif(grade < 80):\n",
    "\tprint(\"C\")\n",
    "elif(grade < 90):\n",
    "\tprint(\"B\")\n",
    "else:\n",
    "\tprint(\"A\")\n",
    "\n",
    "\t"
   ]
  }
 ],
 "metadata": {
  "kernelspec": {
   "display_name": "Python (myenv)",
   "language": "python",
   "name": "myenv"
  },
  "language_info": {
   "codemirror_mode": {
    "name": "ipython",
    "version": 3
   },
   "file_extension": ".py",
   "mimetype": "text/x-python",
   "name": "python",
   "nbconvert_exporter": "python",
   "pygments_lexer": "ipython3",
   "version": "3.12.6"
  }
 },
 "nbformat": 4,
 "nbformat_minor": 2
}
